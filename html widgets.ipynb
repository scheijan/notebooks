{
 "cells": [
  {
   "cell_type": "code",
   "execution_count": 3,
   "metadata": {
    "collapsed": false
   },
   "outputs": [],
   "source": [
    "from IPython.html.widgets import interact, interactive, fixed\n",
    "from IPython.html import widgets\n",
    "from IPython.display import clear_output, display, HTML"
   ]
  },
  {
   "cell_type": "code",
   "execution_count": 1,
   "metadata": {
    "collapsed": false
   },
   "outputs": [],
   "source": [
    "def show_args(**kwargs):\n",
    "    s = '<h3>Arguments:</h3><table>\\n'\n",
    "    for k,v in kwargs.items():\n",
    "        s += '<tr><td>{0}</td><td>{1}</td></tr>\\n'.format(k,v)\n",
    "    s += '</table>'\n",
    "    display(HTML(s))"
   ]
  },
  {
   "cell_type": "code",
   "execution_count": 7,
   "metadata": {
    "collapsed": false
   },
   "outputs": [
    {
     "data": {
      "text/html": [
       "<h3>Arguments:</h3><table>\n",
       "<tr><td>a</td><td>10</td></tr>\n",
       "<tr><td>c</td><td>True</td></tr>\n",
       "<tr><td>b</td><td>Hi There</td></tr>\n",
       "</table>"
      ],
      "text/plain": [
       "<IPython.core.display.HTML at 0x1c44a50>"
      ]
     },
     "metadata": {},
     "output_type": "display_data"
    }
   ],
   "source": [
    "show_args(a=10, b='Hi There', c=True)"
   ]
  },
  {
   "cell_type": "code",
   "execution_count": 4,
   "metadata": {
    "collapsed": false
   },
   "outputs": [
    {
     "data": {
      "text/html": [
       "<h3>Arguments:</h3><table>\n",
       "<tr><td>Current</td><td>4.72</td></tr>\n",
       "<tr><td>Text</td><td>Type here!xcxvcxvxcvxvc</td></tr>\n",
       "<tr><td>z</td><td>True</td></tr>\n",
       "<tr><td>Temp</td><td>6</td></tr>\n",
       "<tr><td>Float (a)</td><td>-6.2</td></tr>\n",
       "</table>"
      ],
      "text/plain": [
       "<IPython.core.display.HTML at 0x2f98b90>"
      ]
     },
     "metadata": {},
     "output_type": "display_data"
    }
   ],
   "source": [
    "i = interact(show_args,\n",
    "         Temp=(0,10),\n",
    "         Current=(0.,10.,0.01),\n",
    "         z=True,\n",
    "         Text=u'Type here!',\n",
    "         #Algorithm=['This','That','Other'],\n",
    "         a=widgets.FloatSliderWidget(min=-10.0, max=10.0, step=0.1, value=5.0, description=\"Float (a)\")\n",
    "         )"
   ]
  },
  {
   "cell_type": "code",
   "execution_count": 13,
   "metadata": {
    "collapsed": false
   },
   "outputs": [
    {
     "data": {
      "text/html": [
       "<h3>Arguments:</h3><table>\n",
       "<tr><td>Current</td><td>4.99</td></tr>\n",
       "<tr><td>Text</td><td>Type here!</td></tr>\n",
       "<tr><td>z</td><td>True</td></tr>\n",
       "<tr><td>Temp</td><td>5</td></tr>\n",
       "<tr><td>Float (a)</td><td>5.0</td></tr>\n",
       "</table>"
      ],
      "text/plain": [
       "<IPython.core.display.HTML at 0x1caa490>"
      ]
     },
     "metadata": {},
     "output_type": "display_data"
    }
   ],
   "source": [
    "i.widget"
   ]
  }
 ],
 "metadata": {
  "kernelspec": {
   "display_name": "Python 2",
   "language": "python",
   "name": "python2"
  },
  "language_info": {
   "codemirror_mode": {
    "name": "ipython",
    "version": 2
   },
   "file_extension": ".py",
   "mimetype": "text/x-python",
   "name": "python",
   "nbconvert_exporter": "python",
   "pygments_lexer": "ipython2",
   "version": "2.7.3"
  }
 },
 "nbformat": 4,
 "nbformat_minor": 0
}
