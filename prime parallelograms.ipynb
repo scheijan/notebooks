{
 "cells": [
  {
   "cell_type": "code",
   "execution_count": null,
   "metadata": {},
   "outputs": [],
   "source": [
    "%matplotlib inline\n",
    "import matplotlib.pyplot as plt\n",
    "\n",
    "import ipywidgets as widgets\n",
    "from ipywidgets import interact\n",
    "\n",
    "import pandas as pd"
   ]
  },
  {
   "cell_type": "code",
   "execution_count": null,
   "metadata": {},
   "outputs": [],
   "source": [
    "import numpy\n",
    "def primesfrom2to(n):\n",
    "    \"\"\" Input n>=6, Returns a array of primes, 2 <= p < n \"\"\"\n",
    "    sieve = numpy.ones(n//3 + (n%6==2), dtype=numpy.bool)\n",
    "    for i in range(1,int(n**0.5)//3+1):\n",
    "        if sieve[i]:\n",
    "            k=3*i+1|1\n",
    "            sieve[       k*k//3     ::2*k] = False\n",
    "            sieve[k*(k-2*(i&1)+4)//3::2*k] = False\n",
    "    return numpy.r_[2,3,((3*numpy.nonzero(sieve)[0][1:]+1)|1)]\n",
    "\n",
    "primes = primesfrom2to(1000000)"
   ]
  },
  {
   "cell_type": "code",
   "execution_count": null,
   "metadata": {},
   "outputs": [],
   "source": [
    "def f(p):\n",
    "    # turn the prime into binary\n",
    "    b = str(bin(p))[2:]\n",
    "    # reverse the binary string\n",
    "    r = ''.join(reversed(b))\n",
    "    # subtract the result from the original prime\n",
    "    result = p - int(r, 2)\n",
    "    return result\n",
    "    "
   ]
  },
  {
   "cell_type": "code",
   "execution_count": null,
   "metadata": {},
   "outputs": [],
   "source": [
    "x = []\n",
    "y = []\n",
    "for p in primes:\n",
    "    x.append(p)\n",
    "    y.append(f(p))\n",
    "\n",
    "pd.DataFrame([x[:20],y[:20]])"
   ]
  },
  {
   "cell_type": "code",
   "execution_count": null,
   "metadata": {},
   "outputs": [],
   "source": [
    "def p(max=1000):\n",
    "    plt.scatter(x[:max], y[:max], s=1)\n",
    "    plt.show()\n",
    "    \n",
    "interact(p, max=widgets.IntSlider(min=0, max=100000, step=100, value=1000))"
   ]
  }
 ],
 "metadata": {
  "kernelspec": {
   "display_name": "Python 3",
   "language": "python",
   "name": "python3"
  },
  "language_info": {
   "codemirror_mode": {
    "name": "ipython",
    "version": 3
   },
   "file_extension": ".py",
   "mimetype": "text/x-python",
   "name": "python",
   "nbconvert_exporter": "python",
   "pygments_lexer": "ipython3",
   "version": "3.7.3"
  }
 },
 "nbformat": 4,
 "nbformat_minor": 2
}
