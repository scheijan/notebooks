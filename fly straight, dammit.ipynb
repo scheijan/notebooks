{
 "cells": [
  {
   "cell_type": "code",
   "execution_count": null,
   "metadata": {},
   "outputs": [],
   "source": [
    "%matplotlib inline\n",
    "import matplotlib.pyplot as plt\n",
    "\n",
    "import ipywidgets as widgets\n",
    "from ipywidgets import interact\n",
    "\n",
    "import pandas as pd"
   ]
  },
  {
   "cell_type": "code",
   "execution_count": null,
   "metadata": {},
   "outputs": [],
   "source": [
    "import math\n",
    "def f(i):\n",
    "    # always return 1 for 0 and 1\n",
    "    if i in [0, 1]:\n",
    "        return 1\n",
    "\n",
    "    # calculate the previous value\n",
    "    prev = f(i-1)\n",
    "    # find the greates common denominator between the current counter and the previous value\n",
    "    gcd = math.gcd(prev, i)\n",
    "    # if the current counter and the previous value are \"coprime\"\n",
    "    if gcd == 1:\n",
    "        # then return the previous value + the current counter + 1\n",
    "        return prev + i + 1\n",
    "    else:\n",
    "        # else return the previous values divided by the gcd\n",
    "        return int(prev / gcd)"
   ]
  },
  {
   "cell_type": "code",
   "execution_count": null,
   "metadata": {},
   "outputs": [],
   "source": [
    "# cache the values for x and y = f(x)\n",
    "x = []\n",
    "y = []\n",
    "for i in range(0, 2000):\n",
    "    x.append(i)\n",
    "    y.append(f(i))\n",
    "\n",
    "pd.DataFrame([x[:20],y[:20]])"
   ]
  },
  {
   "cell_type": "code",
   "execution_count": null,
   "metadata": {
    "scrolled": true
   },
   "outputs": [],
   "source": [
    "def p(max=1000):\n",
    "    plt.scatter(x[:max], y[:max], s=1)\n",
    "    plt.show()\n",
    "    \n",
    "interact(p, max=widgets.IntSlider(min=0, max=1000, step=1, value=100))\n"
   ]
  }
 ],
 "metadata": {
  "kernelspec": {
   "display_name": "Python 3",
   "language": "python",
   "name": "python3"
  },
  "language_info": {
   "codemirror_mode": {
    "name": "ipython",
    "version": 3
   },
   "file_extension": ".py",
   "mimetype": "text/x-python",
   "name": "python",
   "nbconvert_exporter": "python",
   "pygments_lexer": "ipython3",
   "version": "3.7.3"
  }
 },
 "nbformat": 4,
 "nbformat_minor": 2
}
