{
  "nbformat": 4,
  "nbformat_minor": 0,
  "metadata": {
    "colab": {
      "name": "T-SNE",
      "version": "0.3.2",
      "provenance": [],
      "collapsed_sections": [],
      "include_colab_link": true
    },
    "kernelspec": {
      "name": "python3",
      "display_name": "Python 3"
    }
  },
  "cells": [
    {
      "cell_type": "markdown",
      "metadata": {
        "id": "view-in-github",
        "colab_type": "text"
      },
      "source": [
        "<a href=\"https://colab.research.google.com/github/scheijan/notebooks/blob/master/T_SNE.ipynb\" target=\"_parent\"><img src=\"https://colab.research.google.com/assets/colab-badge.svg\" alt=\"Open In Colab\"/></a>"
      ]
    },
    {
      "cell_type": "markdown",
      "metadata": {
        "id": "PAMk-i6B3hCv",
        "colab_type": "text"
      },
      "source": [
        "# Preparations\n",
        "Mount Google Drive and import all necessary libraries\n"
      ]
    },
    {
      "cell_type": "code",
      "metadata": {
        "id": "B_weYfLk6HdT",
        "colab_type": "code",
        "outputId": "e10a44d8-c895-4672-dfc4-d9fec1cc1695",
        "colab": {
          "base_uri": "https://localhost:8080/",
          "height": 133
        }
      },
      "source": [
        "from google.colab import drive\n",
        "drive.mount('/content/drive', force_remount=True)"
      ],
      "execution_count": 2,
      "outputs": [
        {
          "output_type": "stream",
          "text": [
            "Go to this URL in a browser: https://accounts.google.com/o/oauth2/auth?client_id=947318989803-6bn6qk8qdgf4n4g3pfee6491hc0brc4i.apps.googleusercontent.com&redirect_uri=urn%3Aietf%3Awg%3Aoauth%3A2.0%3Aoob&scope=email%20https%3A%2F%2Fwww.googleapis.com%2Fauth%2Fdocs.test%20https%3A%2F%2Fwww.googleapis.com%2Fauth%2Fdrive%20https%3A%2F%2Fwww.googleapis.com%2Fauth%2Fdrive.photos.readonly%20https%3A%2F%2Fwww.googleapis.com%2Fauth%2Fpeopleapi.readonly&response_type=code\n",
            "\n",
            "Enter your authorization code:\n",
            "··········\n",
            "Mounted at /content/drive\n"
          ],
          "name": "stdout"
        }
      ]
    },
    {
      "cell_type": "code",
      "metadata": {
        "id": "E0qo5fSBtlHS",
        "colab_type": "code",
        "colab": {}
      },
      "source": [
        "import pandas\n",
        "import numpy as np\n",
        "import seaborn as sns\n",
        "import matplotlib.pyplot as plt"
      ],
      "execution_count": 0,
      "outputs": []
    },
    {
      "cell_type": "markdown",
      "metadata": {
        "id": "SXQ-bEtN32P_",
        "colab_type": "text"
      },
      "source": [
        "# Read and prepare the data\n",
        "Read the data from the CSV file into a Pandas dataframe. Remove all columns which are not used, we only need the two names and the proximity.\n"
      ]
    },
    {
      "cell_type": "code",
      "metadata": {
        "id": "B7-0RpAO6o9p",
        "colab_type": "code",
        "outputId": "bdbd56bd-74fa-4f3f-b14f-da08782938f0",
        "colab": {
          "base_uri": "https://localhost:8080/",
          "height": 168
        }
      },
      "source": [
        "df = pandas.read_csv('/content/drive/My Drive/Colab Notebooks/GKB_usedTBs.csv', header=None, sep='\\n')\n",
        "df = df[0].str.split('\\t', expand=True)\n",
        "df.columns = ['name1', 'length1', 'name2', 'length2', 'countHits', 'lengthHits', 'proximity']\n",
        "del df['length1']\n",
        "del df['length2']\n",
        "del df['lengthHits']\n",
        "del df['countHits']\n",
        "\n",
        "df.describe()"
      ],
      "execution_count": 4,
      "outputs": [
        {
          "output_type": "execute_result",
          "data": {
            "text/html": [
              "<div>\n",
              "<style scoped>\n",
              "    .dataframe tbody tr th:only-of-type {\n",
              "        vertical-align: middle;\n",
              "    }\n",
              "\n",
              "    .dataframe tbody tr th {\n",
              "        vertical-align: top;\n",
              "    }\n",
              "\n",
              "    .dataframe thead th {\n",
              "        text-align: right;\n",
              "    }\n",
              "</style>\n",
              "<table border=\"1\" class=\"dataframe\">\n",
              "  <thead>\n",
              "    <tr style=\"text-align: right;\">\n",
              "      <th></th>\n",
              "      <th>name1</th>\n",
              "      <th>name2</th>\n",
              "      <th>proximity</th>\n",
              "    </tr>\n",
              "  </thead>\n",
              "  <tbody>\n",
              "    <tr>\n",
              "      <th>count</th>\n",
              "      <td>72505</td>\n",
              "      <td>72505</td>\n",
              "      <td>72505</td>\n",
              "    </tr>\n",
              "    <tr>\n",
              "      <th>unique</th>\n",
              "      <td>718</td>\n",
              "      <td>724</td>\n",
              "      <td>1824</td>\n",
              "    </tr>\n",
              "    <tr>\n",
              "      <th>top</th>\n",
              "      <td>Schuldanerkennung</td>\n",
              "      <td>Schuldanerkennung</td>\n",
              "      <td>0.97%</td>\n",
              "    </tr>\n",
              "    <tr>\n",
              "      <th>freq</th>\n",
              "      <td>836</td>\n",
              "      <td>1015</td>\n",
              "      <td>1526</td>\n",
              "    </tr>\n",
              "  </tbody>\n",
              "</table>\n",
              "</div>"
            ],
            "text/plain": [
              "                    name1              name2 proximity\n",
              "count               72505              72505     72505\n",
              "unique                718                724      1824\n",
              "top     Schuldanerkennung  Schuldanerkennung     0.97%\n",
              "freq                  836               1015      1526"
            ]
          },
          "metadata": {
            "tags": []
          },
          "execution_count": 4
        }
      ]
    },
    {
      "cell_type": "markdown",
      "metadata": {
        "id": "mKyIMByS4Q3P",
        "colab_type": "text"
      },
      "source": [
        "Find all names that only exist in either the first or the second column and create a cleaned, distinct list of all names."
      ]
    },
    {
      "cell_type": "code",
      "metadata": {
        "id": "CSIlSI1Si-a3",
        "colab_type": "code",
        "colab": {}
      },
      "source": [
        "u1 = df['name1'].unique()\n",
        "u2 = df['name2'].unique()\n",
        "\n",
        "missing1 = [a for a in u1 if a not in u2]\n",
        "missing2 = [a for a in u2 if a not in u1]\n",
        "missing = len(missing1) + len(missing2)"
      ],
      "execution_count": 0,
      "outputs": []
    },
    {
      "cell_type": "code",
      "metadata": {
        "id": "iZn5KicgLLJ-",
        "colab_type": "code",
        "colab": {}
      },
      "source": [
        "allNames = []\n",
        "for name in u1:\n",
        "  if name in u2:\n",
        "    allNames.append(name)\n",
        "\n",
        "for name in u2:\n",
        "  if name in u1:\n",
        "    allNames.append(name)\n",
        "\n",
        "allNames = list(set(allNames))\n",
        "allNames.sort()"
      ],
      "execution_count": 0,
      "outputs": []
    },
    {
      "cell_type": "markdown",
      "metadata": {
        "id": "5AEh6-RSY5Gl",
        "colab_type": "text"
      },
      "source": [
        "Create a distance matrix (np array) from the cleaned data."
      ]
    },
    {
      "cell_type": "code",
      "metadata": {
        "id": "VoIGeJeEMf2n",
        "colab_type": "code",
        "colab": {}
      },
      "source": [
        "matrix = np.full((len(allNames), len(allNames)), 0.5)\n",
        "\n",
        "for i, row in df.iterrows():\n",
        "  n1, n2, value = row\n",
        "  if n1 in allNames and n2 in allNames:\n",
        "    i1 = allNames.index(n1)\n",
        "    i2 = allNames.index(n2)\n",
        "\n",
        "    value = value.replace('%', '')\n",
        "    value = 1 - float(value) / 100\n",
        "    # print('%s %s - %s - %s %s' % (n1, i1, value, n2, i2))\n",
        "    \n",
        "    if n1 in missing2 or n2 in missing1:\n",
        "      pass\n",
        "    elif i1 == i2:\n",
        "      matrix[i1, i2] = 0\n",
        "    else:\n",
        "      matrix[i1, i2] = value"
      ],
      "execution_count": 0,
      "outputs": []
    },
    {
      "cell_type": "markdown",
      "metadata": {
        "id": "FuiyhM-uZB4p",
        "colab_type": "text"
      },
      "source": [
        "# Clustering on a 2d plane using T-SNE"
      ]
    },
    {
      "cell_type": "code",
      "metadata": {
        "id": "fVuCykSbak0W",
        "colab_type": "code",
        "outputId": "64ac0892-a435-4bdc-8f51-400bd575945f",
        "colab": {
          "base_uri": "https://localhost:8080/",
          "height": 151
        }
      },
      "source": [
        "from sklearn.manifold import TSNE\n",
        "tsne = TSNE(n_components=2, verbose=1, perplexity=50, n_iter=2000, metric='precomputed')\n",
        "tsne_results = tsne.fit_transform(matrix)"
      ],
      "execution_count": 15,
      "outputs": [
        {
          "output_type": "stream",
          "text": [
            "[t-SNE] Computing 151 nearest neighbors...\n",
            "[t-SNE] Indexed 605 samples in 0.001s...\n",
            "[t-SNE] Computed neighbors for 605 samples in 0.008s...\n",
            "[t-SNE] Computed conditional probabilities for sample 605 / 605\n",
            "[t-SNE] Mean sigma: 0.082183\n",
            "[t-SNE] KL divergence after 250 iterations with early exaggeration: 73.218842\n",
            "[t-SNE] KL divergence after 1450 iterations: 0.817513\n"
          ],
          "name": "stdout"
        }
      ]
    },
    {
      "cell_type": "markdown",
      "metadata": {
        "id": "j6FkULlCZJ6-",
        "colab_type": "text"
      },
      "source": [
        "Add the T-SNE results to the distance matrix and plot it."
      ]
    },
    {
      "cell_type": "code",
      "metadata": {
        "id": "R2k-bIbEnVNa",
        "colab_type": "code",
        "outputId": "6246d52c-ea35-4e01-e0bf-30fe8fa39b25",
        "colab": {
          "base_uri": "https://localhost:8080/",
          "height": 628
        }
      },
      "source": [
        "matrix = pandas.DataFrame(matrix)\n",
        "\n",
        "matrix['tsne-X'] = tsne_results[:,0]\n",
        "matrix['tsne-Y'] = tsne_results[:,1]\n",
        "plt.figure(figsize=(16,10))\n",
        "sns.scatterplot(\n",
        "    x=\"tsne-X\", y=\"tsne-Y\",\n",
        "    palette=sns.color_palette(\"hls\", 10),\n",
        "    data=matrix,\n",
        "    legend=\"full\",\n",
        "    alpha=0.3\n",
        ")"
      ],
      "execution_count": 16,
      "outputs": [
        {
          "output_type": "execute_result",
          "data": {
            "text/plain": [
              "<matplotlib.axes._subplots.AxesSubplot at 0x7f54a8374ba8>"
            ]
          },
          "metadata": {
            "tags": []
          },
          "execution_count": 16
        },
        {
          "output_type": "display_data",
          "data": {
            "image/png": "[encoded data removed]",
            "text/plain": [
              "<Figure size 1152x720 with 1 Axes>"
            ]
          },
          "metadata": {
            "tags": []
          }
        }
      ]
    },
    {
      "cell_type": "code",
      "metadata": {
        "id": "hFZVfrnQ09oO",
        "colab_type": "code",
        "colab": {}
      },
      "source": [
        ""
      ],
      "execution_count": 0,
      "outputs": []
    }
  ]
}