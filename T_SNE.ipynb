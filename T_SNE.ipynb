{
  "nbformat": 4,
  "nbformat_minor": 0,
  "metadata": {
    "colab": {
      "name": "T-SNE",
      "version": "0.3.2",
      "provenance": [],
      "collapsed_sections": []
    },
    "kernelspec": {
      "name": "python3",
      "display_name": "Python 3"
    }
  },
  "cells": [
    {
      "cell_type": "code",
      "metadata": {
        "id": "B_weYfLk6HdT",
        "colab_type": "code",
        "outputId": "69b3f97c-683b-4516-b50f-5227867f0726",
        "colab": {
          "base_uri": "https://localhost:8080/",
          "height": 36
        }
      },
      "source": [
        "from google.colab import drive\n",
        "drive.mount('/content/drive', force_remount=True)"
      ],
      "execution_count": 1,
      "outputs": [
        {
          "output_type": "stream",
          "text": [
            "Mounted at /content/drive\n"
          ],
          "name": "stdout"
        }
      ]
    },
    {
      "cell_type": "code",
      "metadata": {
        "id": "E0qo5fSBtlHS",
        "colab_type": "code",
        "colab": {}
      },
      "source": [
        "import pandas\n",
        "import numpy as np\n",
        "import seaborn as sns\n",
        "import matplotlib.pyplot as plt\n"
      ],
      "execution_count": 0,
      "outputs": []
    },
    {
      "cell_type": "code",
      "metadata": {
        "id": "B7-0RpAO6o9p",
        "colab_type": "code",
        "outputId": "84777192-15f6-4eb8-8e19-c062cc876ad0",
        "colab": {
          "base_uri": "https://localhost:8080/",
          "height": 168
        }
      },
      "source": [
        "df = pandas.read_csv('/content/drive/My Drive/Colab Notebooks/GKB_usedTBs.csv', header=None, sep='\\n')\n",
        "df = df[0].str.split('\\t', expand=True)\n",
        "df.columns = ['name1', 'length1', 'name2', 'length2', 'countHits', 'lengthHits', 'proximity']\n",
        "del df['length1']\n",
        "del df['length2']\n",
        "del df['lengthHits']\n",
        "del df['countHits']\n",
        "\n",
        "df.describe()"
      ],
      "execution_count": 3,
      "outputs": [
        {
          "output_type": "execute_result",
          "data": {
            "text/html": [
              "<div>\n",
              "<style scoped>\n",
              "    .dataframe tbody tr th:only-of-type {\n",
              "        vertical-align: middle;\n",
              "    }\n",
              "\n",
              "    .dataframe tbody tr th {\n",
              "        vertical-align: top;\n",
              "    }\n",
              "\n",
              "    .dataframe thead th {\n",
              "        text-align: right;\n",
              "    }\n",
              "</style>\n",
              "<table border=\"1\" class=\"dataframe\">\n",
              "  <thead>\n",
              "    <tr style=\"text-align: right;\">\n",
              "      <th></th>\n",
              "      <th>name1</th>\n",
              "      <th>name2</th>\n",
              "      <th>proximity</th>\n",
              "    </tr>\n",
              "  </thead>\n",
              "  <tbody>\n",
              "    <tr>\n",
              "      <th>count</th>\n",
              "      <td>72505</td>\n",
              "      <td>72505</td>\n",
              "      <td>72505</td>\n",
              "    </tr>\n",
              "    <tr>\n",
              "      <th>unique</th>\n",
              "      <td>718</td>\n",
              "      <td>724</td>\n",
              "      <td>1824</td>\n",
              "    </tr>\n",
              "    <tr>\n",
              "      <th>top</th>\n",
              "      <td>Schuldanerkennung</td>\n",
              "      <td>Schuldanerkennung</td>\n",
              "      <td>0.97%</td>\n",
              "    </tr>\n",
              "    <tr>\n",
              "      <th>freq</th>\n",
              "      <td>836</td>\n",
              "      <td>1015</td>\n",
              "      <td>1526</td>\n",
              "    </tr>\n",
              "  </tbody>\n",
              "</table>\n",
              "</div>"
            ],
            "text/plain": [
              "                    name1              name2 proximity\n",
              "count               72505              72505     72505\n",
              "unique                718                724      1824\n",
              "top     Schuldanerkennung  Schuldanerkennung     0.97%\n",
              "freq                  836               1015      1526"
            ]
          },
          "metadata": {
            "tags": []
          },
          "execution_count": 3
        }
      ]
    },
    {
      "cell_type": "code",
      "metadata": {
        "id": "CSIlSI1Si-a3",
        "colab_type": "code",
        "outputId": "2ddba86e-15aa-4b1c-96d4-62d7c9aec399",
        "colab": {
          "base_uri": "https://localhost:8080/",
          "height": 36
        }
      },
      "source": [
        "u1 = df['name1'].unique()\n",
        "u2 = df['name2'].unique()\n",
        "\n",
        "missing1 = [a for a in u1 if a not in u2]\n",
        "missing2 = [a for a in u2 if a not in u1]\n",
        "missing = len(missing1) + len(missing2)\n",
        "print(missing)"
      ],
      "execution_count": 4,
      "outputs": [
        {
          "output_type": "stream",
          "text": [
            "232\n"
          ],
          "name": "stdout"
        }
      ]
    },
    {
      "cell_type": "code",
      "metadata": {
        "id": "iZn5KicgLLJ-",
        "colab_type": "code",
        "outputId": "b761af95-5ae1-4cd0-c613-7d998573f332",
        "colab": {
          "base_uri": "https://localhost:8080/",
          "height": 36
        }
      },
      "source": [
        "allNames = []\n",
        "for name in u1:\n",
        "  if name in u2:\n",
        "    allNames.append(name)\n",
        "\n",
        "for name in u2:\n",
        "  if name in u1:\n",
        "    allNames.append(name)\n",
        "\n",
        "allNames = list(set(allNames))\n",
        "allNames.sort()\n",
        "\n",
        "len(allNames)"
      ],
      "execution_count": 5,
      "outputs": [
        {
          "output_type": "execute_result",
          "data": {
            "text/plain": [
              "605"
            ]
          },
          "metadata": {
            "tags": []
          },
          "execution_count": 5
        }
      ]
    },
    {
      "cell_type": "code",
      "metadata": {
        "id": "VoIGeJeEMf2n",
        "colab_type": "code",
        "colab": {}
      },
      "source": [
        "matrix = np.ones((len(allNames), len(allNames)))\n",
        "\n",
        "for i, row in df.iterrows():\n",
        "  n1, n2, value = row\n",
        "  if n1 in allNames and n2 in allNames:\n",
        "    i1 = allNames.index(n1)\n",
        "    i2 = allNames.index(n2)\n",
        "\n",
        "    value = value.replace('%', '')\n",
        "    value = 1 - float(value) / 100\n",
        "    # print('%s %s - %s - %s %s' % (n1, i1, value, n2, i2))\n",
        "    \n",
        "    if n1 in missing2 or n2 in missing1:\n",
        "      pass\n",
        "    elif i1 == i2:\n",
        "      matrix[i1, i2] = 0\n",
        "    else:\n",
        "      matrix[i1, i2] = value"
      ],
      "execution_count": 0,
      "outputs": []
    },
    {
      "cell_type": "code",
      "metadata": {
        "id": "fVuCykSbak0W",
        "colab_type": "code",
        "outputId": "a3673916-79a8-4c05-863e-af62308a02a4",
        "colab": {
          "base_uri": "https://localhost:8080/",
          "height": 151
        }
      },
      "source": [
        "from sklearn.manifold import TSNE\n",
        "tsne = TSNE(n_components=2, verbose=1, perplexity=500, n_iter=2000)\n",
        "tsne_results = tsne.fit_transform(matrix)"
      ],
      "execution_count": 10,
      "outputs": [
        {
          "output_type": "stream",
          "text": [
            "[t-SNE] Computing 604 nearest neighbors...\n",
            "[t-SNE] Indexed 605 samples in 0.001s...\n",
            "[t-SNE] Computed neighbors for 605 samples in 0.071s...\n",
            "[t-SNE] Computed conditional probabilities for sample 605 / 605\n",
            "[t-SNE] Mean sigma: 1.334962\n",
            "[t-SNE] KL divergence after 250 iterations with early exaggeration: 36.791351\n",
            "[t-SNE] KL divergence after 2000 iterations: 0.013833\n"
          ],
          "name": "stdout"
        }
      ]
    },
    {
      "cell_type": "code",
      "metadata": {
        "id": "R2k-bIbEnVNa",
        "colab_type": "code",
        "outputId": "75683855-72ac-47f1-e3a2-0257af0caadd",
        "colab": {
          "base_uri": "https://localhost:8080/",
          "height": 628
        }
      },
      "source": [
        "matrix = pandas.DataFrame(matrix)\n",
        "\n",
        "matrix['tsne-X'] = tsne_results[:,0]\n",
        "matrix['tsne-Y'] = tsne_results[:,1]\n",
        "plt.figure(figsize=(16,10))\n",
        "sns.scatterplot(\n",
        "    x=\"tsne-X\", y=\"tsne-Y\",\n",
        "    palette=sns.color_palette(\"hls\", 10),\n",
        "    data=matrix,\n",
        "    legend=\"full\",\n",
        "    alpha=0.3\n",
        ")"
      ],
      "execution_count": 11,
      "outputs": [
        {
          "output_type": "execute_result",
          "data": {
            "text/plain": [
              "<matplotlib.axes._subplots.AxesSubplot at 0x7fb37d003400>"
            ]
          },
          "metadata": {
            "tags": []
          },
          "execution_count": 11
        },
        {
          "output_type": "display_data",
          "data": {
            "image/png": "[encoded data removed]",
            "text/plain": [
              "<Figure size 1152x720 with 1 Axes>"
            ]
          },
          "metadata": {
            "tags": []
          }
        }
      ]
    },
    {
      "cell_type": "code",
      "metadata": {
        "id": "hFZVfrnQ09oO",
        "colab_type": "code",
        "colab": {}
      },
      "source": [
        ""
      ],
      "execution_count": 0,
      "outputs": []
    }
  ]
}